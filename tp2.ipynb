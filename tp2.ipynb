{
 "cells": [
  {
   "cell_type": "markdown",
   "metadata": {},
   "source": [
    "# Registro de Objetos"
   ]
  },
  {
   "cell_type": "markdown",
   "metadata": {},
   "source": [
    "### Membros\n",
    "Felipe Seppe    - 2017014596 <br>\n",
    "Rafael Oliveira - 2017014685 <br>\n",
    "Vitor Rezende   - 2017014723"
   ]
  },
  {
   "cell_type": "markdown",
   "metadata": {},
   "source": [
    "### Descrição dos Dados\n",
    "Os dados de Registro de Objetos pelo INMETRO estão disponíveis no Portal Brasileiro de Dados Abertos, e pode ser acessado pelo link http://dados.gov.br/dataset/registro-de-objetos. Os dados possuem 27 atributos e 2.086.910 linhas divididas em 71 categorias (arquivos) diferentes, totalizando 2GB, aproximadamente. Devido ao grande tamanho e dificuldades operacionais com o _dataset_, foram escolhidos, de forma aleatória, 35 arquivos dos 71 e concatenados em um único arquivo, resultando em 529.668 linhas. Em seguida criamos um novo atributo chamado _CodItem_, a criação desse atributo fez-se necessária devido ao fato de se ter uma chave primária composta pelos atributos ItemMarca e ItemModelo. "
   ]
  },
  {
   "cell_type": "markdown",
   "metadata": {},
   "source": [
    "### Diagrama ER\n",
    "__OBS:__ Linhas com duas barras no início significa participação total e uma barra apenas significa participação partcial.\n",
    "<img src='imgs/Diagrama ER - Registro de Objetos.png'>"
   ]
  },
  {
   "cell_type": "markdown",
   "metadata": {},
   "source": [
    "### Diagrama relacional\n",
    "<img src='imgs/Esquema Relacional - Registro de Objetos GOV.png'>"
   ]
  },
  {
   "cell_type": "markdown",
   "metadata": {},
   "source": [
    "### Consultas"
   ]
  },
  {
   "cell_type": "code",
   "execution_count": 2,
   "metadata": {},
   "outputs": [],
   "source": [
    "import pandas as pd\n",
    "import sqlite3\n",
    "\n",
    "conn = sqlite3.connect(\"RegistroObjetos.db\")\n",
    "c = conn.cursor()"
   ]
  },
  {
   "cell_type": "markdown",
   "metadata": {},
   "source": [
    "__1.__ CNPJ, Razaosocial e o Total de objetos registrados das 5 empresas com maior número de registro de itens da categoria Artigos escolares"
   ]
  },
  {
   "cell_type": "code",
   "execution_count": 25,
   "metadata": {},
   "outputs": [
    {
     "data": {
      "text/html": [
       "<div>\n",
       "<style scoped>\n",
       "    .dataframe tbody tr th:only-of-type {\n",
       "        vertical-align: middle;\n",
       "    }\n",
       "\n",
       "    .dataframe tbody tr th {\n",
       "        vertical-align: top;\n",
       "    }\n",
       "\n",
       "    .dataframe thead th {\n",
       "        text-align: right;\n",
       "    }\n",
       "</style>\n",
       "<table border=\"1\" class=\"dataframe\">\n",
       "  <thead>\n",
       "    <tr style=\"text-align: right;\">\n",
       "      <th></th>\n",
       "      <th>CNPJ</th>\n",
       "      <th>RazaoSocial</th>\n",
       "      <th>Total</th>\n",
       "    </tr>\n",
       "  </thead>\n",
       "  <tbody>\n",
       "    <tr>\n",
       "      <td>0</td>\n",
       "      <td>73827982000163</td>\n",
       "      <td>SUMMIT COMERCIO IMPORTAÇÃO E EXPORTAÇÃO LTDA</td>\n",
       "      <td>340</td>\n",
       "    </tr>\n",
       "    <tr>\n",
       "      <td>1</td>\n",
       "      <td>02867220000142</td>\n",
       "      <td>ST Importações Ltda</td>\n",
       "      <td>173</td>\n",
       "    </tr>\n",
       "    <tr>\n",
       "      <td>2</td>\n",
       "      <td>59596908000152</td>\n",
       "      <td>A.W FABER CASTELL S. A</td>\n",
       "      <td>157</td>\n",
       "    </tr>\n",
       "    <tr>\n",
       "      <td>3</td>\n",
       "      <td>44990901000143</td>\n",
       "      <td>Tilibra Produtos de Papelaria LTDA</td>\n",
       "      <td>141</td>\n",
       "    </tr>\n",
       "    <tr>\n",
       "      <td>4</td>\n",
       "      <td>60840691000163</td>\n",
       "      <td>Comercio e Importação Sertic Ltda</td>\n",
       "      <td>132</td>\n",
       "    </tr>\n",
       "  </tbody>\n",
       "</table>\n",
       "</div>"
      ],
      "text/plain": [
       "             CNPJ                                   RazaoSocial  Total\n",
       "0  73827982000163  SUMMIT COMERCIO IMPORTAÇÃO E EXPORTAÇÃO LTDA    340\n",
       "1  02867220000142                           ST Importações Ltda    173\n",
       "2  59596908000152                        A.W FABER CASTELL S. A    157\n",
       "3  44990901000143            Tilibra Produtos de Papelaria LTDA    141\n",
       "4  60840691000163             Comercio e Importação Sertic Ltda    132"
      ]
     },
     "execution_count": 25,
     "metadata": {},
     "output_type": "execute_result"
    }
   ],
   "source": [
    "df = pd.read_sql('select CNPJ, RazaoSocial, Total from ('+\n",
    "                     'select CNPJ, RazaoSocial, count(*) as Total from empresa as e '+\n",
    "                     'natural join Registros as r '+\n",
    "                     'natural join Item as i '+\n",
    "                     'where i.Pac = \"Artigos escolares\" '+\n",
    "                     'group by cnpj '+\n",
    "                     'order by total DESC'+\n",
    "                 ') limit 5', conn)\n",
    "df"
   ]
  },
  {
   "cell_type": "raw",
   "metadata": {},
   "source": [
    "6. Consultas"
   ]
  },
  {
   "cell_type": "raw",
   "metadata": {},
   "source": [
    "6.1 Duas consultas envolvendo seleção e projeção"
   ]
  },
  {
   "cell_type": "raw",
   "metadata": {},
   "source": [
    "6.1.1 Consulta 1 (duas versões)"
   ]
  },
  {
   "cell_type": "raw",
   "metadata": {},
   "source": [
    "6.1.2 Consulta 2 (duas versões)"
   ]
  },
  {
   "cell_type": "raw",
   "metadata": {},
   "source": [
    "6.2 Três consultas envolvendo junção de duas relações"
   ]
  },
  {
   "cell_type": "raw",
   "metadata": {},
   "source": [
    "6.2.1 Consulta 3 (duas versões)"
   ]
  },
  {
   "cell_type": "raw",
   "metadata": {},
   "source": [
    "6.2.2 Consulta 4 (duas versões)"
   ]
  },
  {
   "cell_type": "raw",
   "metadata": {},
   "source": [
    "6.2.3 Consulta 5 (duas versões)"
   ]
  },
  {
   "cell_type": "raw",
   "metadata": {},
   "source": [
    "6.3 Três consultas envolvendo junção de três ou mais relações"
   ]
  },
  {
   "cell_type": "raw",
   "metadata": {},
   "source": [
    "6.3.1 Consulta 6 (duas versões)"
   ]
  },
  {
   "cell_type": "raw",
   "metadata": {},
   "source": [
    "6.3.2 Consulta 7 (duas versões)"
   ]
  },
  {
   "cell_type": "raw",
   "metadata": {},
   "source": [
    "6.3.3 Consulta 8 (duas versões)"
   ]
  },
  {
   "cell_type": "raw",
   "metadata": {},
   "source": [
    "6.4 Duas consultas envolvendo agregação sobre junção de duas ou mais relações"
   ]
  },
  {
   "cell_type": "raw",
   "metadata": {},
   "source": [
    "6.4.1 Consulta 9 (duas versões)"
   ]
  },
  {
   "cell_type": "raw",
   "metadata": {},
   "source": [
    "6.4.2 Consulta 10 (duas versões)"
   ]
  },
  {
   "cell_type": "raw",
   "metadata": {},
   "source": [
    "7. Autoavaliação dos membros"
   ]
  }
 ],
 "metadata": {
  "kernelspec": {
   "display_name": "Python 3",
   "language": "python",
   "name": "python3"
  },
  "language_info": {
   "codemirror_mode": {
    "name": "ipython",
    "version": 3
   },
   "file_extension": ".py",
   "mimetype": "text/x-python",
   "name": "python",
   "nbconvert_exporter": "python",
   "pygments_lexer": "ipython3",
   "version": "3.7.3"
  }
 },
 "nbformat": 4,
 "nbformat_minor": 2
}
