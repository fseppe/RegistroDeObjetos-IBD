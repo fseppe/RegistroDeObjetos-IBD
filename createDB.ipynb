{
 "cells": [
  {
   "cell_type": "code",
   "execution_count": 1,
   "metadata": {},
   "outputs": [],
   "source": [
    "import sqlite3\n",
    "import pandas as pd\n",
    "import numpy as np\n",
    "import io"
   ]
  },
  {
   "cell_type": "code",
   "execution_count": 2,
   "metadata": {},
   "outputs": [],
   "source": [
    "df = pd.read_csv('data', encoding='utf-16', sep=';', low_memory=False)\n",
    "# removendo linhas com o cabeçalho (devivo a concatenacao de todos os .csv)\n",
    "df = df[df['Pac'] != 'Pac']\n",
    "# adicionando codigo de cada item ao dataframe (chave da entidade Item)\n",
    "df['CodItem'] = df['ItemMarca'].astype(str) + df['ItemModelo'].astype(str)"
   ]
  },
  {
   "cell_type": "code",
   "execution_count": 3,
   "metadata": {},
   "outputs": [],
   "source": [
    "def transform_date(s):\n",
    "    try:\n",
    "        data = s.split(\"/\")\n",
    "        return data[2]+\"-\"+data[1]+\"-\"+data[0]\n",
    "    except:\n",
    "        return s\n",
    "\n",
    "df['DataConcessao'] = df['DataConcessao'].apply(transform_date)\n",
    "df['DataValidade'] = df['DataValidade'].apply(transform_date)\n",
    "df['DataCancelamento'] = df['DataCancelamento'].apply(transform_date)\n",
    "df['ItemDataAlteracao'] = df['ItemDataAlteracao'].apply(transform_date)"
   ]
  },
  {
   "cell_type": "code",
   "execution_count": 5,
   "metadata": {},
   "outputs": [],
   "source": [
    "df['CNPJ'] = df['CnpjCpf']\n",
    "df['UF'] = df['Uf']\n",
    "df['Portaria'] = df['PortariaInmetro']"
   ]
  },
  {
   "cell_type": "code",
   "execution_count": 6,
   "metadata": {},
   "outputs": [],
   "source": [
    "conn = sqlite3.connect(\"RegistroObjetos2.db\")\n",
    "c = conn.cursor()\n",
    "c.execute('PRAGMA foreign_keys = 0')\n",
    "conn.commit()"
   ]
  },
  {
   "cell_type": "code",
   "execution_count": 7,
   "metadata": {},
   "outputs": [],
   "source": [
    "empresa = ['CNPJ', 'RazaoSocial', 'Email', 'Telefone', 'Logradouro', 'Numero', 'Complemento', 'Cep', 'Bairro', 'Municipio', 'UF']\n",
    "registros = ['NumeroRegistro', 'CNPJ', 'CodItem', 'Status', 'DataConcessao', 'DataValidade', 'DataCancelamento']\n",
    "item = ['CodItem', 'ItemMarca', 'ItemModelo', 'ItemDescricao', 'ItemStatus', 'ItemDataAlteracao', 'ItemCodigodeBarra', 'Pac']\n",
    "objeto = ['Pac', 'Portaria', 'Familia', 'Certificado']"
   ]
  },
  {
   "cell_type": "code",
   "execution_count": 10,
   "metadata": {},
   "outputs": [],
   "source": [
    "c.execute('drop table if exists Empresa')\n",
    "conn.commit()\n",
    "df_empresa = df[empresa]\n",
    "df_empresa = df_empresa.drop_duplicates('CNPJ')\n",
    "df_empresa.to_sql('Empresa', con=conn, index_label='id')"
   ]
  },
  {
   "cell_type": "code",
   "execution_count": 10,
   "metadata": {},
   "outputs": [],
   "source": [
    "c.execute('drop table if exists Registros')\n",
    "conn.commit()\n",
    "df_registros = df[registros]\n",
    "df_registros = df_registros.drop_duplicates('NumeroRegistro')\n",
    "df_registros.to_sql('Registros', con=conn, index=False)"
   ]
  },
  {
   "cell_type": "code",
   "execution_count": 11,
   "metadata": {},
   "outputs": [],
   "source": [
    "c.execute('drop table if exists Item')\n",
    "conn.commit()\n",
    "df_item = df[item]\n",
    "df_item = df_item.drop_duplicates('CodItem')\n",
    "df_item.to_sql('Item', con=conn, index=False)"
   ]
  },
  {
   "cell_type": "code",
   "execution_count": 12,
   "metadata": {},
   "outputs": [],
   "source": [
    "c.execute('drop table if exists Objeto')\n",
    "conn.commit()\n",
    "df_objeto = df[objeto]\n",
    "df_objeto = df_objeto.drop_duplicates('Pac')\n",
    "df_objeto.to_sql('Objeto', con=conn, index=False)"
   ]
  }
 ],
 "metadata": {
  "kernelspec": {
   "display_name": "Python 3",
   "language": "python",
   "name": "python3"
  },
  "language_info": {
   "codemirror_mode": {
    "name": "ipython",
    "version": 3
   },
   "file_extension": ".py",
   "mimetype": "text/x-python",
   "name": "python",
   "nbconvert_exporter": "python",
   "pygments_lexer": "ipython3",
   "version": "3.7.3"
  }
 },
 "nbformat": 4,
 "nbformat_minor": 2
}
